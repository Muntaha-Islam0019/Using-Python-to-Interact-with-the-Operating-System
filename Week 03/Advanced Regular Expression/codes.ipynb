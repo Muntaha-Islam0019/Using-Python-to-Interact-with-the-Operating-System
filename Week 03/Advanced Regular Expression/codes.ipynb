{
 "metadata": {
  "language_info": {
   "codemirror_mode": {
    "name": "ipython",
    "version": 3
   },
   "file_extension": ".py",
   "mimetype": "text/x-python",
   "name": "python",
   "nbconvert_exporter": "python",
   "pygments_lexer": "ipython3",
   "version": "3.9.1-final"
  },
  "orig_nbformat": 2,
  "kernelspec": {
   "name": "python3",
   "display_name": "Python 3.9.1 64-bit",
   "metadata": {
    "interpreter": {
     "hash": "5b4c1ffeefd320fb12d80880478dc5d1b9eeee98da67b48309e3eddd152c8d37"
    }
   }
  }
 },
 "nbformat": 4,
 "nbformat_minor": 2,
 "cells": [
  {
   "cell_type": "code",
   "execution_count": 3,
   "metadata": {},
   "outputs": [
    {
     "output_type": "stream",
     "name": "stdout",
     "text": [
      "<re.Match object; span=(0, 19), match='Targaryen, Daenerys'>\n"
     ]
    }
   ],
   "source": [
    "import re\n",
    "\n",
    "result = re.search(r\"^(\\w*), (\\w*)$\", \"Targaryen, Daenerys\")\n",
    "print(result)"
   ]
  },
  {
   "cell_type": "code",
   "execution_count": 4,
   "metadata": {},
   "outputs": [
    {
     "output_type": "stream",
     "name": "stdout",
     "text": [
      "('Targaryen', 'Daenerys')\n"
     ]
    }
   ],
   "source": [
    "print(result.groups())"
   ]
  },
  {
   "cell_type": "code",
   "execution_count": 5,
   "metadata": {},
   "outputs": [
    {
     "output_type": "stream",
     "name": "stdout",
     "text": [
      "Targaryen, Daenerys\nTargaryen Daenerys\n"
     ]
    }
   ],
   "source": [
    "print(result[0])\n",
    "print(result[1], result[2])"
   ]
  },
  {
   "cell_type": "code",
   "execution_count": 14,
   "metadata": {},
   "outputs": [
    {
     "output_type": "stream",
     "name": "stdout",
     "text": [
      "Cersei Lannister\nAlbus S. Potter\n"
     ]
    }
   ],
   "source": [
    "def rearrange_name(name):\n",
    "    result = re.search(r\"^([\\w \\.-]*), ([\\w \\.-]*)$\", name)\n",
    "    if result is None:\n",
    "        return None\n",
    "    return \"{} {}\".format(result[2], result[1])\n",
    "\n",
    "print(rearrange_name(\"Lannister, Cersei\"))\n",
    "print(rearrange_name(\"Potter, Albus S.\"))"
   ]
  },
  {
   "cell_type": "code",
   "execution_count": 47,
   "metadata": {},
   "outputs": [
    {
     "output_type": "stream",
     "name": "stdout",
     "text": [
      "['Tywin', 'scary', 'cowar', 'alway', 'think', 'about', 'pride', 'nothi']\n['Tywin', 'scary', 'about', 'pride']\n['Tywin', 'scary', 'coward', 'always', 'thinks', 'about', 'pride', 'nothin']\n['Tywin', 'scary', 'coward', 'always', 'thinks', 'about', 'pride', 'nothing']\n['thin', 't', 'thin']\n"
     ]
    }
   ],
   "source": [
    "# search finds out the first match\n",
    "# findall finds all\n",
    "print(re.findall(r\"[a-zA-Z]{5}\", \"Tywin is a scary & coward man, who always thinks about pride and nothing else\"))\n",
    "# It matches every match of five letters, even if its not a full word\n",
    "print(re.findall(r\"\\b[a-zA-Z]{5}\\b\", \"Tywin is a scary & coward man, who always thinks about pride and nothing else\"))\n",
    "# Adding \\b before and after shows exact 5 letter matches\n",
    "# If we put another parameter after 5 that would be a limiter\n",
    "print(re.findall(r\"[a-zA-Z]{5,6}\", \"Tywin is a scary & coward man, who always thinks about pride and nothing else\"))\n",
    "# If one leave it blank, it will take any word with more than 5 letters\n",
    "print(re.findall(r\"[a-zA-Z]{5,}\", \"Tywin is a scary & coward man, who always thinks about pride and nothing else\"))\n",
    "# It also goes other way around\n",
    "print(re.findall(r\"t\\w{,3}\", \"Tywin is a scary & coward man, who always thinks about pride and nothing else\"))\n",
    "# Here it searches for a t followed by 3 alphaneumeric characters"
   ]
  },
  {
   "cell_type": "code",
   "execution_count": 56,
   "metadata": {},
   "outputs": [
    {
     "output_type": "stream",
     "name": "stdout",
     "text": [
      "10203\n"
     ]
    }
   ],
   "source": [
    "def extract_pid(log_line):\n",
    "    \n",
    "    regex = r\"\\[(\\d+)\\]\"\n",
    "    result = re.search(regex, log_line)\n",
    "\n",
    "    if result is None:\n",
    "        return \"\"\n",
    "    \n",
    "    return result[1]\n",
    "\n",
    "\n",
    "print(extract_pid(\"mycomputer.exe bad_process[10203]: ERROR Performing Package Upgrade\"))"
   ]
  },
  {
   "cell_type": "code",
   "execution_count": 59,
   "metadata": {},
   "outputs": [
    {
     "output_type": "stream",
     "name": "stdout",
     "text": [
      "['A sentence', ' Another one', ' Yes', '']\n['A sentence', '.', ' Another one', '?', ' Yes', '!', '']\n"
     ]
    }
   ],
   "source": [
    "# Splitting by delimiters\n",
    "print(re.split(r\"[.?!]\", \"A sentence. Another one? Yes!\"))\n",
    "\n",
    "# If one wanna keep the delimiters:\n",
    "print(re.split(r\"([.?!])\", \"A sentence. Another one? Yes!\"))"
   ]
  },
  {
   "cell_type": "code",
   "execution_count": 60,
   "metadata": {},
   "outputs": [
    {
     "output_type": "stream",
     "name": "stdout",
     "text": [
      "John Snow\n"
     ]
    }
   ],
   "source": [
    "# For substitution we use re.sub\n",
    "print(re.sub(r\"^([\\w .-]*), ([\\w .-]*)$\", r\"\\2 \\1\", \"Snow, John\"))\n",
    "# Here the second raw string indicates the correcponding captured group. It put Snow in 2 of result and John in 1. We can change the main string from this 2nd raw string"
   ]
  }
 ]
}